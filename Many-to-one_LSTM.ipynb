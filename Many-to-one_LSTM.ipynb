{
 "cells": [
  {
   "cell_type": "markdown",
   "metadata": {},
   "source": [
    "# Many-to-one LSTM\n",
    "\n",
    "ref: UCB-CS282-John F. Canny\n",
    "\n",
    "In this notebook we implement Many-to-One Long Short-Term Memory using a modular approach. For each layer we implement a `forward` and a `backward` function. The `forward` function will receive inputs, weights, and other parameters and will return both an output and a `cache` object storing data needed for the backward pass, like this:\n",
    "\n",
    "```python\n",
    "def layer_forward(x, w):\n",
    "  \"\"\" Receive inputs x and weights w \"\"\"\n",
    "  # Do some computations ...\n",
    "  z = # ... some intermediate value\n",
    "  # Do some more computations ...\n",
    "  out = # the output\n",
    "   \n",
    "  cache = (x, w, z, out) # Values we need to compute gradients\n",
    "  \n",
    "  return out, cache\n",
    "```\n",
    "\n",
    "The backward pass will receive upstream derivatives and the `cache` object, and will return gradients with respect to the inputs and weights, like this:\n",
    "\n",
    "```python\n",
    "def layer_backward(dout, cache):\n",
    "  \"\"\"\n",
    "  Receive derivative of loss with respect to outputs and cache,\n",
    "  and compute derivative with respect to inputs.\n",
    "  \"\"\"\n",
    "  # Unpack cache values\n",
    "  x, w, z, out = cache\n",
    "  \n",
    "  # Use values in cache to compute derivatives\n",
    "  dx = # Derivative of loss with respect to x\n",
    "  dw = # Derivative of loss with respect to w\n",
    "  \n",
    "  return dx, dw\n",
    "```\n",
    "\n",
    "After implementing a bunch of layers this way, we will be able to easily combine them to build classifiers with different architectures.\n",
    "\n",
    "In addition to implementing LSTM networks of arbitrary depth, we also explore different update rules for optimization, and introduce Dropout as a regularizer and Batch Normalization as a tool to more efficiently optimize deep networks.\n",
    "  "
   ]
  },
  {
   "cell_type": "code",
   "execution_count": 4,
   "metadata": {},
   "outputs": [
    {
     "name": "stdout",
     "output_type": "stream",
     "text": [
      "The autoreload extension is already loaded. To reload it, use:\n",
      "  %reload_ext autoreload\n"
     ]
    }
   ],
   "source": [
    "# A bit of setup\n",
    "\n",
    "import time\n",
    "import numpy as np\n",
    "import matplotlib.pyplot as plt\n",
    "from batchnormlstm.classifiers.lstm import *\n",
    "from batchnormlstm.gradient_check import eval_numerical_gradient, eval_numerical_gradient_array\n",
    "from batchnormlstm.solver import Solver\n",
    "\n",
    "%matplotlib inline\n",
    "plt.rcParams['figure.figsize'] = (10.0, 8.0) # set default size of plots\n",
    "plt.rcParams['image.interpolation'] = 'nearest'\n",
    "plt.rcParams['image.cmap'] = 'gray'\n",
    "\n",
    "# for auto-reloading external modules\n",
    "# see http://stackoverflow.com/questions/1907993/autoreload-of-modules-in-ipython\n",
    "%load_ext autoreload\n",
    "%autoreload 2\n",
    "\n",
    "def rel_error(x, y):\n",
    "    \"\"\" returns relative error \"\"\"\n",
    "    return np.max(np.abs(x - y) / (np.maximum(1e-8, np.abs(x) + np.abs(y))))"
   ]
  },
  {
   "cell_type": "code",
   "execution_count": 5,
   "metadata": {},
   "outputs": [
    {
     "name": "stdout",
     "output_type": "stream",
     "text": [
      "X_val:  (982, 4, 28)\n",
      "y_val:  (982, 28)\n",
      "X_train:  (17758, 4, 28)\n",
      "y_train:  (17758, 28)\n",
      "X_test:  (983, 4, 28)\n",
      "y_test:  (983, 28)\n"
     ]
    }
   ],
   "source": [
    "# Load test dataset and process it.\n",
    "import pandas as pd\n",
    "raw = pd.read_csv('.\\\\dataset\\\\energydata_complete.csv', index_col=0)\n",
    "\n",
    "T = 4\n",
    "test_pct = 0.05\n",
    "\n",
    "data = {'X_val': np.empty([int(test_pct * raw.index.size) - T, T, raw.columns.size]), \n",
    "        'y_val': np.empty([int(test_pct * raw.index.size) - T, raw.columns.size]), \n",
    "        'X_train': np.empty([int((1 - test_pct) * raw.index.size) - T \n",
    "                             - int(test_pct * raw.index.size), T, raw.columns.size]), \n",
    "        'y_train': np.empty([int((1 - test_pct) * raw.index.size) - T \n",
    "                             - int(test_pct * raw.index.size), raw.columns.size]), \n",
    "        'X_test': np.empty([raw.index.size - T \n",
    "                            - int((1 - test_pct) * raw.index.size), T, raw.columns.size]), \n",
    "        'y_test': np.empty([raw.index.size - T \n",
    "                            - int((1 - test_pct) * raw.index.size), raw.columns.size])}\n",
    "for i in range(int(test_pct * raw.index.size) - T):\n",
    "    data['X_val'][i] = raw.iloc[i:(i + T), :].values\n",
    "    data['y_val'][i] = raw.iloc[i + T, :].values\n",
    "for i in range(int(test_pct * raw.index.size), int((1 - test_pct) * raw.index.size) - T):\n",
    "    data['X_train'][i - int(test_pct * raw.index.size)] = raw.iloc[i:(i + T), :].values\n",
    "    data['y_train'][i - int(test_pct * raw.index.size)] = raw.iloc[i + T, :].values\n",
    "for i in range(int((1 - test_pct) * raw.index.size), raw.index.size - T):\n",
    "    data['X_test'][i - int((1 - test_pct) * raw.index.size)] = raw.iloc[i:(i + T), :].values\n",
    "    data['y_test'][i - int((1 - test_pct) * raw.index.size)] = raw.iloc[i + T, :].values\n",
    "\n",
    "for k, v in data.items():\n",
    "  print('%s: ' % k, v.shape)"
   ]
  },
  {
   "cell_type": "markdown",
   "metadata": {},
   "source": [
    "# Affine layer: forward\n",
    "In file `batchnormlstm/layers.py` we implement the `affine_forward` function, then test the implementaion by running the following:"
   ]
  },
  {
   "cell_type": "code",
   "execution_count": 6,
   "metadata": {},
   "outputs": [
    {
     "name": "stdout",
     "output_type": "stream",
     "text": [
      "Testing affine_forward function:\n",
      "difference:  9.769847728806635e-10\n"
     ]
    }
   ],
   "source": [
    "# Test the affine_forward function\n",
    "\n",
    "num_inputs = 2\n",
    "input_shape = (4, 5, 6)\n",
    "output_dim = 3\n",
    "\n",
    "input_size = num_inputs * np.prod(input_shape)\n",
    "weight_size = output_dim * np.prod(input_shape)\n",
    "\n",
    "x = np.linspace(-0.1, 0.5, num=input_size).reshape(num_inputs, *input_shape)\n",
    "w = np.linspace(-0.2, 0.3, num=weight_size).reshape(np.prod(input_shape), output_dim)\n",
    "b = np.linspace(-0.3, 0.1, num=output_dim)\n",
    "\n",
    "out, _ = affine_forward(x, w, b)\n",
    "correct_out = np.array([[ 1.49834967,  1.70660132,  1.91485297],\n",
    "                        [ 3.25553199,  3.5141327,   3.77273342]])\n",
    "\n",
    "# Compare the outputs. The error should be around 1e-9.\n",
    "print('Testing affine_forward function:')\n",
    "print('difference: ', rel_error(out, correct_out))"
   ]
  },
  {
   "cell_type": "markdown",
   "metadata": {},
   "source": [
    "# Affine layer: backward\n",
    "Implement the `affine_backward` function and test the implementation using numeric gradient checking."
   ]
  },
  {
   "cell_type": "code",
   "execution_count": 7,
   "metadata": {},
   "outputs": [
    {
     "name": "stdout",
     "output_type": "stream",
     "text": [
      "Testing affine_backward function:\n",
      "dx error:  1.580274371758088e-10\n",
      "dw error:  1.6327342070374637e-10\n",
      "db error:  8.79291994626051e-12\n",
      "\n"
     ]
    }
   ],
   "source": [
    "# Test the affine_backward function\n",
    "\n",
    "x = np.random.randn(10, 2, 3)\n",
    "w = np.random.randn(6, 5)\n",
    "b = np.random.randn(5)\n",
    "dout = np.random.randn(10, 5)\n",
    "\n",
    "dx_num = eval_numerical_gradient_array(lambda x: affine_forward(x, w, b)[0], x, dout)\n",
    "dw_num = eval_numerical_gradient_array(lambda w: affine_forward(x, w, b)[0], w, dout)\n",
    "db_num = eval_numerical_gradient_array(lambda b: affine_forward(x, w, b)[0], b, dout)\n",
    "\n",
    "_, cache = affine_forward(x, w, b)\n",
    "dx, dw, db = affine_backward(dout, cache)\n",
    "\n",
    "# The error should be around 1e-10\n",
    "print('Testing affine_backward function:')\n",
    "print('dx error: ', rel_error(dx_num, dx))\n",
    "print('dw error: ', rel_error(dw_num, dw))\n",
    "print('db error: ', rel_error(db_num, db))\n",
    "print()"
   ]
  },
  {
   "cell_type": "markdown",
   "metadata": {},
   "source": [
    "# Activation layers: forward\n",
    "Implement the forward pass for tanh and sigmoid activation function in the `tanh_forward` and `sigmoid_forward` function and test the implementation using the following:"
   ]
  },
  {
   "cell_type": "code",
   "execution_count": 8,
   "metadata": {},
   "outputs": [
    {
     "name": "stdout",
     "output_type": "stream",
     "text": [
      "Testing tanh_forward function:\n",
      "difference:  3.8292287781296644e-08\n",
      "Testing sigmoid_forward function:\n",
      "difference:  5.157221295671855e-09\n"
     ]
    }
   ],
   "source": [
    "# Test the tanh_forward and sigmoid_forward function\n",
    "\n",
    "x = np.linspace(-0.5, 0.5, num=12).reshape(3, 4)\n",
    "\n",
    "out, _ = tanh_forward(x)\n",
    "correct_out = np.array([[-0.46211716, -0.38770051, -0.30786199, -0.22343882],\n",
    "                        [-0.13552465, -0.04542327,  0.04542327,  0.13552465],\n",
    "                        [ 0.22343882,  0.30786199,  0.38770051,  0.46211716]])\n",
    "\n",
    "# Compare the outputs. The error should be around 1e-8\n",
    "print('Testing tanh_forward function:')\n",
    "print('difference: ', rel_error(out, correct_out))\n",
    "\n",
    "out, _ = sigmoid_forward(x)\n",
    "correct_out = np.array([[0.37754067, 0.39913012, 0.42111892, 0.44342513],\n",
    "                        [0.46596182, 0.48863832, 0.51136168, 0.53403818],\n",
    "                        [0.55657487, 0.57888108, 0.60086988, 0.62245933]])\n",
    "\n",
    "# Compare the outputs. The error should be around 1e-8\n",
    "print('Testing sigmoid_forward function:')\n",
    "print('difference: ', rel_error(out, correct_out))"
   ]
  },
  {
   "cell_type": "markdown",
   "metadata": {},
   "source": [
    "# Activation layers: backward\n",
    "Implement the backward pass for tanh and sigmoid activation function in the `tanh_backward` and `sigmoid_backward` function and test the implementation using numeric gradient checking:"
   ]
  },
  {
   "cell_type": "code",
   "execution_count": 9,
   "metadata": {},
   "outputs": [
    {
     "name": "stdout",
     "output_type": "stream",
     "text": [
      "Testing tanh_backward function:\n",
      "dx error:  1.9348653675634142e-10\n",
      "Testing sigmoid_backward function:\n",
      "dx error:  1.0034653863721936e-10\n",
      "\n"
     ]
    }
   ],
   "source": [
    "x = np.random.randn(5, 5, 10)\n",
    "dout = np.random.randn(*x.shape)\n",
    "\n",
    "dx_num = eval_numerical_gradient_array(lambda x: tanh_forward(x)[0], x, dout)\n",
    "\n",
    "_, cache = tanh_forward(x)\n",
    "dx = tanh_backward(dout, cache)\n",
    "\n",
    "# The error should be around 1e-10\n",
    "print('Testing tanh_backward function:')\n",
    "print('dx error: ', rel_error(dx_num, dx))\n",
    "\n",
    "dx_num = eval_numerical_gradient_array(lambda x: sigmoid_forward(x)[0], x, dout)\n",
    "\n",
    "_, cache = sigmoid_forward(x)\n",
    "dx = sigmoid_backward(dout, cache)\n",
    "\n",
    "# The error should be around 1e-10\n",
    "print('Testing sigmoid_backward function:')\n",
    "print('dx error: ', rel_error(dx_num, dx))\n",
    "print()"
   ]
  },
  {
   "cell_type": "markdown",
   "metadata": {},
   "source": [
    "# Batch normalization: Forward\n",
    "In the file `batchnormlstm/layers.py`, we implement the batch normalization forward pass in the function `batchnorm_forward`, then run the following to test the implementation."
   ]
  },
  {
   "cell_type": "code",
   "execution_count": 10,
   "metadata": {
    "scrolled": true
   },
   "outputs": [
    {
     "name": "stdout",
     "output_type": "stream",
     "text": [
      "Before batch normalization:\n",
      "  means:  [-30.33501244 -30.97886183  38.33433603]\n",
      "  stds:  [36.32146779 31.83002163 31.20518914]\n",
      "After batch normalization (gamma=1, beta=0)\n",
      "  mean:  [-1.95399252e-16  5.77315973e-17 -8.19899704e-16]\n",
      "  std:  [1.         1.         0.99999999]\n",
      "After batch normalization (nontrivial gamma, beta)\n",
      "  means:  [11. 12. 13.]\n",
      "  stds:  [1.         1.99999999 2.99999998]\n"
     ]
    }
   ],
   "source": [
    "# Check the training-time forward pass by checking means and variances\n",
    "# of features both before and after batch normalization\n",
    "\n",
    "# Simulate the forward pass for a two-layer network\n",
    "N, D1, D2, D3 = 200, 50, 60, 3\n",
    "X = np.random.randn(N, D1)\n",
    "W1 = np.random.randn(D1, D2)\n",
    "W2 = np.random.randn(D2, D3)\n",
    "a = np.maximum(0, X.dot(W1)).dot(W2)\n",
    "\n",
    "print('Before batch normalization:')\n",
    "print('  means: ', a.mean(axis=0))\n",
    "print('  stds: ', a.std(axis=0))\n",
    "\n",
    "# Means should be close to zero and stds close to one\n",
    "print('After batch normalization (gamma=1, beta=0)')\n",
    "a_norm, _ = batchnorm_forward(a, np.ones(D3), np.zeros(D3), {'mode': 'train'})\n",
    "print('  mean: ', a_norm.mean(axis=0))\n",
    "print('  std: ', a_norm.std(axis=0))\n",
    "\n",
    "# Now means should be close to beta and stds close to gamma\n",
    "gamma = np.asarray([1.0, 2.0, 3.0])\n",
    "beta = np.asarray([11.0, 12.0, 13.0])\n",
    "a_norm, _ = batchnorm_forward(a, gamma, beta, {'mode': 'train'})\n",
    "print('After batch normalization (nontrivial gamma, beta)')\n",
    "print('  means: ', a_norm.mean(axis=0))\n",
    "print('  stds: ', a_norm.std(axis=0))"
   ]
  },
  {
   "cell_type": "code",
   "execution_count": 11,
   "metadata": {},
   "outputs": [
    {
     "name": "stdout",
     "output_type": "stream",
     "text": [
      "After batch normalization (test-time):\n",
      "  means:  [ 0.07693787 -0.02578972  0.05492385]\n",
      "  stds:  [0.99651805 1.04399964 0.95703145]\n"
     ]
    }
   ],
   "source": [
    "# Check the test-time forward pass by running the training-time\n",
    "# forward pass many times to warm up the running averages, and then\n",
    "# checking the means and variances of activations after a test-time\n",
    "# forward pass.\n",
    "\n",
    "N, D1, D2, D3 = 200, 50, 60, 3\n",
    "W1 = np.random.randn(D1, D2)\n",
    "W2 = np.random.randn(D2, D3)\n",
    "\n",
    "bn_param = {'mode': 'train'}\n",
    "gamma = np.ones(D3)\n",
    "beta = np.zeros(D3)\n",
    "for t in range(50):\n",
    "  X = np.random.randn(N, D1)\n",
    "  a = np.maximum(0, X.dot(W1)).dot(W2)\n",
    "  batchnorm_forward(a, gamma, beta, bn_param)\n",
    "bn_param['mode'] = 'test'\n",
    "X = np.random.randn(N, D1)\n",
    "a = np.maximum(0, X.dot(W1)).dot(W2)\n",
    "a_norm, _ = batchnorm_forward(a, gamma, beta, bn_param)\n",
    "\n",
    "# Means should be close to zero and stds close to one, but will be\n",
    "# noisier than training-time forward passes.\n",
    "print('After batch normalization (test-time):')\n",
    "print('  means: ', a_norm.mean(axis=0))\n",
    "print('  stds: ', a_norm.std(axis=0))"
   ]
  },
  {
   "cell_type": "markdown",
   "metadata": {},
   "source": [
    "# Batch Normalization: backward\n",
    "Implement the backward pass for batch normalization in the function `batchnorm_backward`.\n",
    "\n",
    "To derive the backward pass we write out the computation graph for batch normalization and backprop through each of the intermediate nodes. Some intermediates may have multiple outgoing branches; sum gradients across these branches in the backward pass.\n",
    "\n",
    "Run the following to numerically check the backward pass."
   ]
  },
  {
   "cell_type": "code",
   "execution_count": 12,
   "metadata": {
    "scrolled": true
   },
   "outputs": [
    {
     "name": "stdout",
     "output_type": "stream",
     "text": [
      "dx error:  2.8510779751549673e-10\n",
      "dgamma error:  5.7137851762636384e-12\n",
      "dbeta error:  3.3697549129496796e-11\n"
     ]
    }
   ],
   "source": [
    "# Gradient check batchnorm backward pass\n",
    "\n",
    "N, D = 4, 5\n",
    "x = 5 * np.random.randn(N, D) + 12\n",
    "gamma = np.random.randn(D)\n",
    "beta = np.random.randn(D)\n",
    "dout = np.random.randn(N, D)\n",
    "\n",
    "bn_param = {'mode': 'train'}\n",
    "fx = lambda x: batchnorm_forward(x, gamma, beta, bn_param)[0]\n",
    "fg = lambda a: batchnorm_forward(x, gamma, beta, bn_param)[0]\n",
    "fb = lambda b: batchnorm_forward(x, gamma, beta, bn_param)[0]\n",
    "\n",
    "dx_num = eval_numerical_gradient_array(fx, x, dout)\n",
    "da_num = eval_numerical_gradient_array(fg, gamma, dout)\n",
    "db_num = eval_numerical_gradient_array(fb, beta, dout)\n",
    "\n",
    "_, cache = batchnorm_forward(x, gamma, beta, bn_param)\n",
    "dx, dgamma, dbeta = batchnorm_backward(dout, cache)\n",
    "print('dx error: ', rel_error(dx_num, dx))\n",
    "print('dgamma error: ', rel_error(da_num, dgamma))\n",
    "print('dbeta error: ', rel_error(db_num, dbeta))"
   ]
  },
  {
   "cell_type": "markdown",
   "metadata": {},
   "source": [
    "# Batch Normalization: alternative backward\n",
    "We derive a simple expression for the batch normalization backward pass after working out derivatives on paper and simplifying. Implement the simplified batch normalization backward pass in the function `batchnorm_backward_alt` and compare the two implementations by running the following. Our two implementations should compute nearly identical results, but the alternative implementation should be a bit faster."
   ]
  },
  {
   "cell_type": "code",
   "execution_count": 13,
   "metadata": {},
   "outputs": [
    {
     "name": "stdout",
     "output_type": "stream",
     "text": [
      "dx difference:  3.14204955235961e-11\n",
      "dgamma difference:  0.0\n",
      "dbeta difference:  0.0\n",
      "speedup: 3.00x\n",
      "\n"
     ]
    }
   ],
   "source": [
    "N, D = 100, 500\n",
    "x = 5 * np.random.randn(N, D) + 12\n",
    "gamma = np.random.randn(D)\n",
    "beta = np.random.randn(D)\n",
    "dout = np.random.randn(N, D)\n",
    "\n",
    "bn_param = {'mode': 'train'}\n",
    "out, cache = batchnorm_forward(x, gamma, beta, bn_param)\n",
    "\n",
    "t1 = time.time()\n",
    "dx1, dgamma1, dbeta1 = batchnorm_backward(dout, cache)\n",
    "t2 = time.time()\n",
    "dx2, dgamma2, dbeta2 = batchnorm_backward_alt(dout, cache)\n",
    "t3 = time.time()\n",
    "\n",
    "print('dx difference: ', rel_error(dx1, dx2))\n",
    "print('dgamma difference: ', rel_error(dgamma1, dgamma2))\n",
    "print('dbeta difference: ', rel_error(dbeta1, dbeta2))\n",
    "print('speedup: %.2fx' % ((t2 - t1) / (t3 - t2)))\n",
    "print()"
   ]
  },
  {
   "cell_type": "markdown",
   "metadata": {},
   "source": [
    "# Dropout forward pass\n",
    "In the file `batchnormlstm/layers.py`, implement the forward pass for dropout. Since dropout behaves differently during training and testing, we implement the operation for both modes.\n",
    "\n",
    "Run the cell below to test the implementation."
   ]
  },
  {
   "cell_type": "code",
   "execution_count": 14,
   "metadata": {},
   "outputs": [
    {
     "name": "stdout",
     "output_type": "stream",
     "text": [
      "Running tests with p =  0.3\n",
      "Mean of input:  10.000280495638942\n",
      "Mean of train-time output:  10.003757970096457\n",
      "Mean of test-time output:  10.000280495638942\n",
      "Fraction of train-time output set to zero:  0.699864\n",
      "Fraction of test-time output set to zero:  0.0\n",
      "\n",
      "Running tests with p =  0.6\n",
      "Mean of input:  10.000280495638942\n",
      "Mean of train-time output:  10.012958120128776\n",
      "Mean of test-time output:  10.000280495638942\n",
      "Fraction of train-time output set to zero:  0.399508\n",
      "Fraction of test-time output set to zero:  0.0\n",
      "\n",
      "Running tests with p =  0.75\n",
      "Mean of input:  10.000280495638942\n",
      "Mean of train-time output:  10.012202300191028\n",
      "Mean of test-time output:  10.000280495638942\n",
      "Fraction of train-time output set to zero:  0.249144\n",
      "Fraction of test-time output set to zero:  0.0\n"
     ]
    }
   ],
   "source": [
    "x = np.random.randn(500, 500) + 10\n",
    "rates = [0.3, 0.6, 0.75]\n",
    "\n",
    "for i, p in enumerate(rates):\n",
    "  out, _ = dropout_forward(x, {'mode': 'train', 'p': p})\n",
    "  out_test, _ = dropout_forward(x, {'mode': 'test', 'p': p})\n",
    "\n",
    "  print('Running tests with p = ', p)\n",
    "  print('Mean of input: ', x.mean())\n",
    "  print('Mean of train-time output: ', out.mean())\n",
    "  print('Mean of test-time output: ', out_test.mean())\n",
    "  print('Fraction of train-time output set to zero: ', (out == 0).mean())\n",
    "  print('Fraction of test-time output set to zero: ', (out_test == 0).mean())\n",
    "  if i < (len(rates) - 1):\n",
    "    print()"
   ]
  },
  {
   "cell_type": "markdown",
   "metadata": {},
   "source": [
    "# Dropout backward pass\n",
    "In the file `batchnormlstm/layers.py`, implement the backward pass for dropout. Run the following cell to numerically gradient-check the implementation."
   ]
  },
  {
   "cell_type": "code",
   "execution_count": 15,
   "metadata": {},
   "outputs": [
    {
     "name": "stdout",
     "output_type": "stream",
     "text": [
      "dx relative error:  5.4456072614148924e-11\n",
      "\n"
     ]
    }
   ],
   "source": [
    "x = np.random.randn(10, 10) + 10\n",
    "dout = np.random.randn(*x.shape)\n",
    "\n",
    "dropout_param = {'mode': 'train', 'p': 0.8, 'seed': 123}\n",
    "out, cache = dropout_forward(x, dropout_param)\n",
    "dx = dropout_backward(dout, cache)\n",
    "dx_num = eval_numerical_gradient_array(lambda xx: dropout_forward(xx, dropout_param)[0], x, dout)\n",
    "\n",
    "print('dx relative error: ', rel_error(dx, dx_num))\n",
    "print()"
   ]
  },
  {
   "cell_type": "markdown",
   "metadata": {},
   "source": [
    "# LSTM Unit: forward\n",
    "Implement a LSTM forward pass for one time step with `lstm_forward_unit`.\n",
    "\n",
    "ref: https://blog.aidangomez.ca/2016/04/17/Backpropogating-an-LSTM-A-Numerical-Example/"
   ]
  },
  {
   "cell_type": "code",
   "execution_count": 16,
   "metadata": {},
   "outputs": [
    {
     "name": "stdout",
     "output_type": "stream",
     "text": [
      "Testing lstm_forward_unit function:\n",
      "difference:  3.5742222070529497e-09\n"
     ]
    }
   ],
   "source": [
    "# Test the lstm_forward_unit function\n",
    "\n",
    "num_inputs = 2\n",
    "input_shape = (4, 5, 6)\n",
    "output_dim = 3\n",
    "\n",
    "inputX_size = num_inputs * np.prod(input_shape)\n",
    "weightW_size = 4 * output_dim * np.prod(input_shape)\n",
    "inputS_size = num_inputs * output_dim\n",
    "weightU_size = 4 * output_dim * output_dim\n",
    "scale_size = 4 * output_dim\n",
    "\n",
    "x = np.linspace(-0.1, 0.5, num=inputX_size).reshape(num_inputs, *input_shape)\n",
    "w = np.linspace(-0.2, 0.3, num=weightW_size).reshape(np.prod(input_shape), 4 * output_dim)\n",
    "b = np.linspace(-0.3, 0.1, num=scale_size)\n",
    "h_prev = np.linspace(0.1, -0.5, num=inputS_size).reshape(num_inputs, output_dim)\n",
    "c_prev = np.linspace(0.2, -0.3, num=inputS_size).reshape(num_inputs, output_dim)\n",
    "u = np.linspace(0.3, -0.1, num=weightU_size).reshape(output_dim, 4 * output_dim)\n",
    "\n",
    "out, _, _ = lstm_forward_unit(x, w, u, b, h_prev, c_prev)\n",
    "correct_out = np.array([[0.63273332, 0.60414966, 0.57096795],\n",
    "                        [0.67986212, 0.63027987, 0.57357252]])\n",
    "\n",
    "# Compare the outputs. The error should be around 1e-9.\n",
    "print('Testing lstm_forward_unit function:')\n",
    "print('difference: ', rel_error(out, correct_out))"
   ]
  },
  {
   "cell_type": "markdown",
   "metadata": {},
   "source": [
    "# LSTM & BatchNorm-LSTM Unit: backward\n",
    "Then implement the `lstm_backward_unit` and `batchnorm_lstm_backward_unit` function and numerically check the implementations."
   ]
  },
  {
   "cell_type": "code",
   "execution_count": 17,
   "metadata": {
    "scrolled": true
   },
   "outputs": [
    {
     "name": "stdout",
     "output_type": "stream",
     "text": [
      "Testing lstm_backward_unit function:\n",
      "dx error:  5.676013334485782e-10\n",
      "dw error:  9.09439438048634e-10\n",
      "du error:  6.022805979019028e-09\n",
      "db error:  2.958323064832232e-10\n",
      "\n",
      "Testing batchnorm_lstm_backward_unit function:\n",
      "dx error:  8.584173797425142e-09\n",
      "dw error:  4.5670732371827704e-08\n",
      "du error:  7.438542676015566e-08\n",
      "dgamma_x error:  3.725801103979747e-10\n",
      "dbeta_x error:  9.704859248215657e-10\n",
      "dgamma_h error:  1.6933380811135852e-08\n",
      "dbeta_h error:  1.0815590892310194e-09\n",
      "dgamma_c error:  5.595591165982771e-10\n",
      "dbeta_c error:  3.837078124809926e-11\n",
      "\n"
     ]
    }
   ],
   "source": [
    "# Test the lstm_backward_unit function\n",
    "\n",
    "x = np.random.randn(10, 2, 3)\n",
    "w = np.random.randn(6, 20)\n",
    "b = np.random.randn(20)\n",
    "h_prev = np.random.randn(10, 5)\n",
    "c_prev = np.random.randn(10, 5)\n",
    "u = np.random.randn(5, 20)\n",
    "dout = np.random.randn(10, 5)\n",
    "\n",
    "dx_num = eval_numerical_gradient_array(lambda x: lstm_forward_unit(x, w, u, b, h_prev, c_prev)[0], x, dout)\n",
    "dw_num = eval_numerical_gradient_array(lambda w: lstm_forward_unit(x, w, u, b, h_prev, c_prev)[0], w, dout)\n",
    "du_num = eval_numerical_gradient_array(lambda u: lstm_forward_unit(x, w, u, b, h_prev, c_prev)[0], u, dout)\n",
    "db_num = eval_numerical_gradient_array(lambda b: lstm_forward_unit(x, w, u, b, h_prev, c_prev)[0], b, dout)\n",
    "\n",
    "_, _, cache = lstm_forward_unit(x, w, u, b, h_prev, c_prev)\n",
    "dx, dw, du, db, _, _, _ = lstm_backward_unit(dout, cache)\n",
    "\n",
    "# The error should be around 1e-9\n",
    "print('Testing lstm_backward_unit function:')\n",
    "print('dx error: ', rel_error(dx_num, dx))\n",
    "print('dw error: ', rel_error(dw_num, dw))\n",
    "print('du error: ', rel_error(du_num, du))\n",
    "print('db error: ', rel_error(db_num, db))\n",
    "print()\n",
    "\n",
    "# Test the batchnorm_lstm_backward_unit function\n",
    "\n",
    "gamma_x = np.random.randn(20)\n",
    "gamma_h = np.random.randn(20)\n",
    "gamma_c = np.random.randn(5)\n",
    "beta_x = np.random.randn(20)\n",
    "beta_h = np.random.randn(20)\n",
    "beta_c = np.random.randn(5)\n",
    "bn_params = [{'mode': 'train'} for i in range(3)]\n",
    "\n",
    "dx_num = eval_numerical_gradient_array(lambda x: \n",
    "                                       batchnorm_lstm_forward_unit(x, w, u, b, (gamma_x, gamma_h, gamma_c), \n",
    "                                                                   (beta_x, beta_h, beta_c), bn_params, \n",
    "                                                                   h_prev, c_prev)[0], \n",
    "                                       x, dout)\n",
    "dw_num = eval_numerical_gradient_array(lambda w: \n",
    "                                       batchnorm_lstm_forward_unit(x, w, u, b, (gamma_x, gamma_h, gamma_c), \n",
    "                                                                   (beta_x, beta_h, beta_c), bn_params,\n",
    "                                                                   h_prev, c_prev)[0], \n",
    "                                       w, dout)\n",
    "du_num = eval_numerical_gradient_array(lambda u: \n",
    "                                       batchnorm_lstm_forward_unit(x, w, u, b, (gamma_x, gamma_h, gamma_c), \n",
    "                                                                   (beta_x, beta_h, beta_c), bn_params, \n",
    "                                                                   h_prev, c_prev)[0], \n",
    "                                       u, dout)\n",
    "db_num = eval_numerical_gradient_array(lambda b: \n",
    "                                       batchnorm_lstm_forward_unit(x, w, u, b, (gamma_x, gamma_h, gamma_c), \n",
    "                                                                   (beta_x, beta_h, beta_c), bn_params, \n",
    "                                                                   h_prev, c_prev)[0], \n",
    "                                       b, dout)\n",
    "dgamma_x_num = eval_numerical_gradient_array(lambda gamma_x: \n",
    "                                             batchnorm_lstm_forward_unit(x, w, u, b, (gamma_x, gamma_h, gamma_c), \n",
    "                                                                         (beta_x, beta_h, beta_c), bn_params,\n",
    "                                                                         h_prev, c_prev)[0], \n",
    "                                             gamma_x, dout)\n",
    "dbeta_x_num = eval_numerical_gradient_array(lambda beta_x: \n",
    "                                            batchnorm_lstm_forward_unit(x, w, u, b, (gamma_x, gamma_h, gamma_c), \n",
    "                                                                        (beta_x, beta_h, beta_c), bn_params,\n",
    "                                                                        h_prev, c_prev)[0], \n",
    "                                            beta_x, dout)\n",
    "dgamma_h_num = eval_numerical_gradient_array(lambda gamma_h: \n",
    "                                             batchnorm_lstm_forward_unit(x, w, u, b, (gamma_x, gamma_h, gamma_c), \n",
    "                                                                         (beta_x, beta_h, beta_c), bn_params, \n",
    "                                                                         h_prev, c_prev)[0], \n",
    "                                             gamma_h, dout)\n",
    "dbeta_h_num = eval_numerical_gradient_array(lambda beta_h: \n",
    "                                            batchnorm_lstm_forward_unit(x, w, u, b, (gamma_x, gamma_h, gamma_c), \n",
    "                                                                        (beta_x, beta_h, beta_c), bn_params, \n",
    "                                                                        h_prev, c_prev)[0], \n",
    "                                            beta_h, dout)\n",
    "dgamma_c_num = eval_numerical_gradient_array(lambda gamma_c: \n",
    "                                             batchnorm_lstm_forward_unit(x, w, u, b, (gamma_x, gamma_h, gamma_c), \n",
    "                                                                         (beta_x, beta_h, beta_c), bn_params, \n",
    "                                                                         h_prev, c_prev)[0], \n",
    "                                             gamma_c, dout)\n",
    "dbeta_c_num = eval_numerical_gradient_array(lambda beta_c: \n",
    "                                            batchnorm_lstm_forward_unit(x, w, u, b, (gamma_x, gamma_h, gamma_c), \n",
    "                                                                        (beta_x, beta_h, beta_c), bn_params, \n",
    "                                                                        h_prev, c_prev)[0], \n",
    "                                            beta_c, dout)\n",
    "\n",
    "_, _, cache = batchnorm_lstm_forward_unit(x, w, u, b, (gamma_x, gamma_h, gamma_c), \n",
    "                                          (beta_x, beta_h, beta_c), bn_params, h_prev, c_prev)\n",
    "dx, dw, du, db, dgammas, dbetas, _, _, _ = batchnorm_lstm_backward_unit(dout, cache)\n",
    "\n",
    "dgamma_x, dgamma_h, dgamma_c = dgammas\n",
    "dbeta_x, dbeta_h, dbeta_c = dbetas\n",
    "\n",
    "# The error should be around 1e-9\n",
    "print('Testing batchnorm_lstm_backward_unit function:')\n",
    "print('dx error: ', rel_error(dx_num, dx))\n",
    "print('dw error: ', rel_error(dw_num, dw))\n",
    "print('du error: ', rel_error(du_num, du))\n",
    "print('dgamma_x error: ', rel_error(dgamma_x_num, dgamma_x))\n",
    "print('dbeta_x error: ', rel_error(dbeta_x_num, dbeta_x))\n",
    "print('dgamma_h error: ', rel_error(dgamma_h_num, dgamma_h))\n",
    "print('dbeta_h error: ', rel_error(dbeta_h_num, dbeta_h))\n",
    "print('dgamma_c error: ', rel_error(dgamma_c_num, dgamma_c))\n",
    "print('dbeta_c error: ', rel_error(dbeta_c_num, dbeta_c))\n",
    "print()"
   ]
  },
  {
   "cell_type": "markdown",
   "metadata": {},
   "source": [
    "# Assembled Layer: forward\n",
    "Implement a batch-normalized LSTM forward pass with `batchnorm_lstm_forward` that loops through `batchnorm_lstm_forward_unit`."
   ]
  },
  {
   "cell_type": "code",
   "execution_count": 18,
   "metadata": {
    "scrolled": true
   },
   "outputs": [
    {
     "name": "stdout",
     "output_type": "stream",
     "text": [
      "Testing batchnorm_lstm_forward function:\n",
      "difference:  2.505371298335007e-07\n"
     ]
    }
   ],
   "source": [
    "# Test the batchnorm_lstm_forward function\n",
    "\n",
    "num_inputs = 2\n",
    "input_shape = (4, 5, 6)\n",
    "output_dim = 5\n",
    "time_step = 3\n",
    "\n",
    "inputX_size = num_inputs * time_step * np.prod(input_shape)\n",
    "weightW_size = 4 * output_dim * np.prod(input_shape)\n",
    "inputS_size = num_inputs * output_dim\n",
    "weightU_size = 4 * output_dim * output_dim\n",
    "scale_size = 4 * output_dim\n",
    "\n",
    "x = np.linspace(-0.1, 0.5, num=inputX_size).reshape(num_inputs, time_step, *input_shape)\n",
    "w = np.linspace(-0.2, 0.3, num=weightW_size).reshape(np.prod(input_shape), 4 * output_dim)\n",
    "b = np.linspace(-0.3, 0.1, num=scale_size)\n",
    "h_n1 = np.linspace(0.1, -0.5, num=inputS_size).reshape(num_inputs, output_dim)\n",
    "c_n1 = np.linspace(0.2, -0.3, num=inputS_size).reshape(num_inputs, output_dim)\n",
    "u = np.linspace(0.3, -0.1, num=weightU_size).reshape(output_dim, 4 * output_dim)\n",
    "\n",
    "gamma_x = np.linspace(3., 4., num=scale_size)\n",
    "gamma_h = np.linspace(-2., -5., num=scale_size)\n",
    "gamma_c = np.linspace(1., 6., num=output_dim)\n",
    "beta_x = np.linspace(-0.1, 0.3, num=scale_size)\n",
    "beta_h = np.linspace(-0.2, 0.2, num=scale_size)\n",
    "beta_c = np.linspace(-0.3, 0.1, num=output_dim)\n",
    "bn_params = [{'mode': 'train'} for i in range(3)]\n",
    "\n",
    "outs, _ = batchnorm_lstm_forward(x, w, u, b, (gamma_x, gamma_h, gamma_c),\n",
    "                                 (beta_x, beta_h, beta_c), bn_params)\n",
    "out = outs[:, -1, :]\n",
    "correct_out = np.array([[-0.61717064, -0.73806868, -0.77826679, -0.80687535, -0.83184207],\n",
    "                        [ 0.26743016,  0.41807813,  0.42096102,  0.41164257,  0.40158984]])\n",
    "\n",
    "# Compare the outputs. The error should be around 1e-7.\n",
    "print('Testing batchnorm_lstm_forward function:')\n",
    "print('difference: ', rel_error(out, correct_out))"
   ]
  },
  {
   "cell_type": "markdown",
   "metadata": {},
   "source": [
    "# Assembled Layer: backward\n",
    "Implement the `batchnorm_lstm_backward` function and test the implementation using numeric gradient checking."
   ]
  },
  {
   "cell_type": "code",
   "execution_count": 39,
   "metadata": {},
   "outputs": [
    {
     "name": "stdout",
     "output_type": "stream",
     "text": [
      "Testing lstm_backward_unit function:\n",
      "dx error:  6.510179435612519e-08\n",
      "dw error:  4.77448491604468e-07\n",
      "du error:  2.683146430218781e-07\n",
      "db error:  7.013542670085222e-09\n",
      "dgamma_x error:  4.715754374359772e-09\n",
      "dbeta_x error:  7.013542670085222e-09\n",
      "dgamma_h error:  3.0510325475552296e-09\n",
      "dbeta_h error:  7.247845978538795e-09\n",
      "dgamma_c error:  6.701361988181442e-10\n",
      "dbeta_c error:  2.216564624855941e-09\n",
      "\n"
     ]
    }
   ],
   "source": [
    "# Test the batchnorm_lstm_backward function\n",
    "\n",
    "x = np.random.randn(10, 4, 2, 3)\n",
    "w = np.random.randn(6, 20)\n",
    "b = np.random.randn(20)\n",
    "h_n1 = np.random.randn(10, 5)\n",
    "c_n1 = np.random.randn(10, 5)\n",
    "u = np.random.randn(5, 20)\n",
    "dout = np.random.randn(10, 4, 5)\n",
    "\n",
    "gamma_x = np.random.randn(20)\n",
    "gamma_h = np.random.randn(20)\n",
    "gamma_c = np.random.randn(5)\n",
    "beta_x = np.random.randn(20)\n",
    "beta_h = np.random.randn(20)\n",
    "beta_c = np.random.randn(5)\n",
    "bn_params = [{'mode': 'train'} for i in range(3)]\n",
    "\n",
    "dx_num = eval_numerical_gradient_array(lambda x: batchnorm_lstm_forward(x, w, u, b, (gamma_x, gamma_h, gamma_c),\n",
    "                                                                        (beta_x, beta_h, beta_c), bn_params, \n",
    "                                                                        h_n1, c_n1)[0], \n",
    "                                       x, dout)\n",
    "dw_num = eval_numerical_gradient_array(lambda w: batchnorm_lstm_forward(x, w, u, b, (gamma_x, gamma_h, gamma_c),\n",
    "                                                                        (beta_x, beta_h, beta_c), bn_params, \n",
    "                                                                        h_n1, c_n1)[0], \n",
    "                                       w, dout)\n",
    "du_num = eval_numerical_gradient_array(lambda u: batchnorm_lstm_forward(x, w, u, b, (gamma_x, gamma_h, gamma_c),\n",
    "                                                                        (beta_x, beta_h, beta_c), bn_params, \n",
    "                                                                        h_n1, c_n1)[0], \n",
    "                                       u, dout)\n",
    "db_num = eval_numerical_gradient_array(lambda b: batchnorm_lstm_forward(x, w, u, b, (gamma_x, gamma_h, gamma_c),\n",
    "                                                                        (beta_x, beta_h, beta_c), bn_params, \n",
    "                                                                        h_n1, c_n1)[0], \n",
    "                                       b, dout)\n",
    "dgamma_x_num = eval_numerical_gradient_array(lambda gamma_x: batchnorm_lstm_forward(x, w, u, b, \n",
    "                                                                                    (gamma_x, gamma_h, gamma_c),\n",
    "                                                                                    (beta_x, beta_h, beta_c), \n",
    "                                                                                    bn_params, h_n1, c_n1)[0], \n",
    "                                             gamma_x, dout)\n",
    "dbeta_x_num = eval_numerical_gradient_array(lambda beta_x: batchnorm_lstm_forward(x, w, u, b, \n",
    "                                                                                  (gamma_x, gamma_h, gamma_c),\n",
    "                                                                                  (beta_x, beta_h, beta_c), \n",
    "                                                                                  bn_params, h_n1, c_n1)[0], \n",
    "                                            beta_x, dout)\n",
    "dgamma_h_num = eval_numerical_gradient_array(lambda gamma_h: batchnorm_lstm_forward(x, w, u, b, \n",
    "                                                                                    (gamma_x, gamma_h, gamma_c),\n",
    "                                                                                    (beta_x, beta_h, beta_c), \n",
    "                                                                                    bn_params, h_n1, c_n1)[0], \n",
    "                                             gamma_h, dout)\n",
    "dbeta_h_num = eval_numerical_gradient_array(lambda beta_h: batchnorm_lstm_forward(x, w, u, b, \n",
    "                                                                                  (gamma_x, gamma_h, gamma_c),\n",
    "                                                                                  (beta_x, beta_h, beta_c), \n",
    "                                                                                  bn_params, h_n1, c_n1)[0], \n",
    "                                            beta_h, dout)\n",
    "dgamma_c_num = eval_numerical_gradient_array(lambda gamma_c: batchnorm_lstm_forward(x, w, u, b, \n",
    "                                                                                    (gamma_x, gamma_h, gamma_c),\n",
    "                                                                                    (beta_x, beta_h, beta_c), \n",
    "                                                                                    bn_params, h_n1, c_n1)[0], \n",
    "                                             gamma_c, dout)\n",
    "dbeta_c_num = eval_numerical_gradient_array(lambda beta_c: batchnorm_lstm_forward(x, w, u, b, \n",
    "                                                                                  (gamma_x, gamma_h, gamma_c),\n",
    "                                                                                  (beta_x, beta_h, beta_c), \n",
    "                                                                                  bn_params, h_n1, c_n1)[0], \n",
    "                                            beta_c, dout)\n",
    "\n",
    "_, cache = batchnorm_lstm_forward(x, w, u, b, (gamma_x, gamma_h, gamma_c), (beta_x, beta_h, beta_c), bn_params, \n",
    "                                  h_n1, c_n1)\n",
    "dx, dw, du, db, dgammas, dbetas = batchnorm_lstm_backward(dout, cache)\n",
    "\n",
    "dgamma_x, dgamma_h, dgamma_c = dgammas\n",
    "dbeta_x, dbeta_h, dbeta_c = dbetas\n",
    "\n",
    "# The error should be around 1e-7\n",
    "print('Testing lstm_backward_unit function:')\n",
    "print('dx error: ', rel_error(dx_num, dx))\n",
    "print('dw error: ', rel_error(dw_num, dw))\n",
    "print('du error: ', rel_error(du_num, du))\n",
    "print('db error: ', rel_error(db_num, db))\n",
    "print('dgamma_x error: ', rel_error(dgamma_x_num, dgamma_x))\n",
    "print('dbeta_x error: ', rel_error(dbeta_x_num, dbeta_x))\n",
    "print('dgamma_h error: ', rel_error(dgamma_h_num, dgamma_h))\n",
    "print('dbeta_h error: ', rel_error(dbeta_h_num, dbeta_h))\n",
    "print('dgamma_c error: ', rel_error(dgamma_c_num, dgamma_c))\n",
    "print('dbeta_c error: ', rel_error(dbeta_c_num, dbeta_c))\n",
    "print()"
   ]
  },
  {
   "cell_type": "markdown",
   "metadata": {},
   "source": [
    "# Loss layer: MSE\n",
    "Implement the loss function in `batchnormlstm/layers.py`.\n",
    "\n",
    "We make sure that the implementations are correct by running the following:"
   ]
  },
  {
   "cell_type": "code",
   "execution_count": 40,
   "metadata": {},
   "outputs": [
    {
     "name": "stdout",
     "output_type": "stream",
     "text": [
      "Testing mse_loss:\n",
      "loss:  2.052333493108092\n",
      "dx error:  2.555032546004221e-05\n",
      "\n"
     ]
    }
   ],
   "source": [
    "dim_outputs, num_inputs = 10, 50\n",
    "x = np.random.randn(num_inputs, dim_outputs)\n",
    "y = np.random.randn(num_inputs, dim_outputs)\n",
    "\n",
    "dx_num = eval_numerical_gradient(lambda x: mse_loss(x, y)[0], x, verbose=False)\n",
    "loss, dx = mse_loss(x, y)\n",
    "\n",
    "# Test mse_loss function. Loss should be around 2 and dx error should be 1e-7\n",
    "print('Testing mse_loss:')\n",
    "print('loss: ', loss)\n",
    "print('dx error: ', rel_error(dx_num, dx))\n",
    "print()"
   ]
  },
  {
   "cell_type": "markdown",
   "metadata": {},
   "source": [
    "# Two-layer LSTM network\n",
    "\n",
    "In the file `batchnormlstm/classifiers/lstm.py` we complete the implementation of the `TwoLayerLSTM` class. This class will serve as a model for the other networks we implement. Run the cell below to test the implementation."
   ]
  },
  {
   "cell_type": "code",
   "execution_count": 41,
   "metadata": {
    "scrolled": true
   },
   "outputs": [
    {
     "name": "stdout",
     "output_type": "stream",
     "text": [
      "Testing initialization ... \n",
      "Testing test-time forward pass ... \n",
      "Testing training loss (no regularization) ...\n",
      "Testing training loss (with regularization) ...\n",
      "Running numeric gradient check with reg =  0.0\n",
      "U relative error: 3.33e-04\n",
      "W1 relative error: 1.60e-03\n",
      "W2 relative error: 5.15e-10\n",
      "b1 relative error: 2.49e-04\n",
      "b2 relative error: 4.77e-10\n",
      "Running numeric gradient check with reg =  0.7\n",
      "U relative error: 1.68e-05\n",
      "W1 relative error: 2.44e-05\n",
      "W2 relative error: 4.08e-07\n",
      "b1 relative error: 3.29e-03\n",
      "b2 relative error: 1.61e-09\n",
      "\n"
     ]
    }
   ],
   "source": [
    "N, D, H, O = 3, 5, 50, 6\n",
    "T = 4\n",
    "\n",
    "std = 1e-2\n",
    "model = TwoLayerLSTM(input_dim=D, hidden_dim=H, output_dim=O, weight_scale=std)\n",
    "\n",
    "print('Testing initialization ... ')\n",
    "W1_std = abs(model.params['W1'].std() - std)\n",
    "b1 = model.params['b1']\n",
    "W2_std = abs(model.params['W2'].std() - std)\n",
    "b2 = model.params['b2']\n",
    "U_std = abs(model.params['U'].std() - std)\n",
    "assert W1_std < std / 10, 'LSTM layer input weights do not seem right'\n",
    "assert np.all(b1 == 0), 'LSTM layer biases do not seem right'\n",
    "assert W2_std < std / 10, 'Affine layer weights do not seem right'\n",
    "assert np.all(b2 == 0), 'Affine layer biases do not seem right'\n",
    "assert U_std < std / 10, 'LSTM layer state weights do not seem right'\n",
    "\n",
    "print('Testing test-time forward pass ... ')\n",
    "model.params['W1'] = np.linspace(-0.7, 0.3, num=D*4*H).reshape(D, 4*H)\n",
    "model.params['b1'] = np.linspace(-0.1, 0.9, num=4*H)\n",
    "model.params['W2'] = np.linspace(-0.3, 0.4, num=H*O).reshape(H, O)\n",
    "model.params['b2'] = np.linspace(-0.9, 0.1, num=O)\n",
    "model.params['U'] = np.linspace(-0.5, 0.5, num=H*4*H).reshape(H, 4*H)\n",
    "X = np.linspace(-5.5, 4.5, num=N*T*D).reshape((D, T, N)).T\n",
    "h_prev = np.zeros((N, H))\n",
    "c_prev = np.zeros((N, H))\n",
    "\n",
    "outs = model.loss(X)\n",
    "correct_outs = np.asarray(\n",
    "  [[1.30180544, 1.61810112, 1.9343968,  2.25069248, 2.56698816, 2.88328384],\n",
    "   [1.30212866, 1.61834704, 1.93456542, 2.2507838,  2.56700219, 2.88322057],\n",
    "   [1.30257611, 1.61870838, 1.93484065, 2.25097292, 2.56710519, 2.88323746]])\n",
    "outs_diff = np.abs(outs - correct_outs).sum()\n",
    "assert outs_diff < 1e-6, 'Problem with test-time forward pass'\n",
    "\n",
    "print('Testing training loss (no regularization) ...')\n",
    "Y = np.linspace(2.5, -3.5, num=N*O).reshape(O, N).T\n",
    "loss, grads = model.loss(X, Y)\n",
    "correct_loss = 12.319904047979042\n",
    "assert abs(loss - correct_loss) < 1e-10, 'Problem with training-time loss'\n",
    "\n",
    "print('Testing training loss (with regularization) ...')\n",
    "model.reg = 1.0\n",
    "loss, grads = model.loss(X, Y)\n",
    "correct_loss = 497.3609656985614\n",
    "assert abs(loss - correct_loss) < 1e-10, 'Problem with regularization loss'\n",
    "\n",
    "for reg in [0.0, 0.7]:\n",
    "  print('Running numeric gradient check with reg = ', reg)\n",
    "  model.reg = reg\n",
    "  loss, grads = model.loss(X, Y)\n",
    "\n",
    "  for name in sorted(grads):\n",
    "    f = lambda _: model.loss(X, Y)[0]\n",
    "    grad_num = eval_numerical_gradient(f, model.params[name], verbose=False)\n",
    "    print('%s relative error: %.2e' % (name, rel_error(grad_num, grads[name])))\n",
    "print()"
   ]
  },
  {
   "cell_type": "markdown",
   "metadata": {},
   "source": [
    "# Solver\n",
    "In the previous assignment, the logic for training models was coupled to the models themselves. Following a more modular design, for this assignment we have split the logic for training models into a separate class.\n",
    "\n",
    "In the file `batchnormlstm/solver.py`, a modular designed class is implemented to train the models. Below we test a `Solver` instance by using it to train a `TwoLayerLSTM` with the data."
   ]
  },
  {
   "cell_type": "code",
   "execution_count": 45,
   "metadata": {
    "scrolled": false
   },
   "outputs": [
    {
     "name": "stdout",
     "output_type": "stream",
     "text": [
      "(Iteration 1 / 2136) loss: 22253.129490\n",
      "(Epoch 0 / 12) train_acc: -22185.110217; val_acc: -22781.851593\n",
      "(Iteration 101 / 2136) loss: 20145.900421\n",
      "(Epoch 1 / 12) train_acc: -19107.623912; val_acc: -19704.533949\n",
      "(Iteration 201 / 2136) loss: 19202.921033\n",
      "(Iteration 301 / 2136) loss: 17690.170766\n",
      "(Epoch 2 / 12) train_acc: -16626.700185; val_acc: -17288.975922\n",
      "(Iteration 401 / 2136) loss: 16180.004132\n",
      "(Iteration 501 / 2136) loss: 15364.115024\n",
      "(Epoch 3 / 12) train_acc: -14818.106415; val_acc: -15379.650053\n",
      "(Iteration 601 / 2136) loss: 14785.742143\n",
      "(Iteration 701 / 2136) loss: 13533.043745\n",
      "(Epoch 4 / 12) train_acc: -13375.693523; val_acc: -13850.797382\n",
      "(Iteration 801 / 2136) loss: 12911.198287\n",
      "(Epoch 5 / 12) train_acc: -12027.126239; val_acc: -12612.166069\n",
      "(Iteration 901 / 2136) loss: 12071.863752\n",
      "(Iteration 1001 / 2136) loss: 11343.273746\n",
      "(Epoch 6 / 12) train_acc: -11023.291617; val_acc: -11598.197938\n",
      "(Iteration 1101 / 2136) loss: 10664.458458\n",
      "(Iteration 1201 / 2136) loss: 10859.916089\n",
      "(Epoch 7 / 12) train_acc: -10369.438458; val_acc: -10760.392038\n",
      "(Iteration 1301 / 2136) loss: 9784.279122\n",
      "(Iteration 1401 / 2136) loss: 9523.482561\n",
      "(Epoch 8 / 12) train_acc: -9555.842451; val_acc: -10061.981881\n",
      "(Iteration 1501 / 2136) loss: 9729.767490\n",
      "(Iteration 1601 / 2136) loss: 8990.035079\n",
      "(Epoch 9 / 12) train_acc: -9006.586181; val_acc: -9475.180415\n",
      "(Iteration 1701 / 2136) loss: 8580.812757\n",
      "(Epoch 10 / 12) train_acc: -8420.525353; val_acc: -8978.760488\n",
      "(Iteration 1801 / 2136) loss: 8587.047197\n",
      "(Iteration 1901 / 2136) loss: 8204.087135\n",
      "(Epoch 11 / 12) train_acc: -8159.737744; val_acc: -8556.223861\n",
      "(Iteration 2001 / 2136) loss: 7714.433912\n",
      "(Iteration 2101 / 2136) loss: 7826.676022\n",
      "(Epoch 12 / 12) train_acc: -7747.826907; val_acc: -8194.753265\n"
     ]
    },
    {
     "data": {
      "text/plain": [
       "-7961.696083205202"
      ]
     },
     "execution_count": 45,
     "metadata": {},
     "output_type": "execute_result"
    }
   ],
   "source": [
    "model = TwoLayerLSTM(input_dim=28, hidden_dim=10)\n",
    "solver = None\n",
    "\n",
    "##############################################################################\n",
    "# Use a Solver instance to train a TwoLayerLSTM                              #\n",
    "##############################################################################\n",
    "solver = Solver(model, data,\n",
    "                update_rule='sgd',\n",
    "                optim_config={\n",
    "                    'learning_rate': 1e-3,\n",
    "                },\n",
    "                lr_decay=0.9,\n",
    "                num_epochs=12, batch_size=100,\n",
    "                print_every=100)\n",
    "solver.train(regress=True)\n",
    "solver.check_accuracy(data['X_test'], data['y_test'], regress=True)\n",
    "##############################################################################\n",
    "#                                                                            #\n",
    "##############################################################################"
   ]
  },
  {
   "cell_type": "code",
   "execution_count": 46,
   "metadata": {},
   "outputs": [
    {
     "data": {
      "image/png": "[encoded data removed]",
      "text/plain": [
       "<Figure size 1080x864 with 2 Axes>"
      ]
     },
     "metadata": {
      "needs_background": "light"
     },
     "output_type": "display_data"
    },
    {
     "name": "stdout",
     "output_type": "stream",
     "text": [
      "\n"
     ]
    }
   ],
   "source": [
    "# Run this cell to visualize training loss and train / val accuracy\n",
    "\n",
    "plt.subplot(2, 1, 1)\n",
    "plt.title('Training loss')\n",
    "plt.plot(solver.loss_history, 'o')\n",
    "plt.xlabel('Iteration')\n",
    "\n",
    "plt.subplot(2, 1, 2)\n",
    "plt.title('Accuracy')\n",
    "plt.plot(solver.train_acc_history, '-o', label='train')\n",
    "plt.plot(solver.val_acc_history, '-o', label='val')\n",
    "plt.plot([0.5] * len(solver.val_acc_history), 'k--')\n",
    "plt.xlabel('Epoch')\n",
    "plt.legend(loc='lower right')\n",
    "plt.gcf().set_size_inches(15, 12)\n",
    "plt.show()\n",
    "print()"
   ]
  },
  {
   "cell_type": "markdown",
   "metadata": {},
   "source": [
    "# Advanced LSTM network\n",
    "Next we implement the multi-layer LSTM network with an arbitrary number of hidden layers, and the options of batch normalization and dropout, as the `AdvancedLSTM` class in the file `batchnormlstm/classifiers/lstm.py`.\n",
    "\n",
    "ref: <br />\n",
    "https://arxiv.org/pdf/1603.09025.pdf <br />\n",
    "https://arxiv.org/pdf/1409.2329.pdf"
   ]
  },
  {
   "cell_type": "markdown",
   "metadata": {},
   "source": [
    "## Initial loss and gradient check"
   ]
  },
  {
   "cell_type": "markdown",
   "metadata": {},
   "source": [
    "As a sanity check, run the following to check the initial loss and to gradient check the network both with and without regularization and see if the initial losses seem reasonable."
   ]
  },
  {
   "cell_type": "code",
   "execution_count": 47,
   "metadata": {},
   "outputs": [
    {
     "name": "stdout",
     "output_type": "stream",
     "text": [
      "Running check with reg =  0\n",
      "Initial loss:  0.6364185128745645\n",
      "U1 relative error: 6.23e-04\n",
      "U2 relative error: 1.06e-03\n",
      "W1 relative error: 1.24e-04\n",
      "W2 relative error: 6.81e-04\n",
      "W3 relative error: 6.66e-05\n",
      "b1 relative error: 2.69e-05\n",
      "b2 relative error: 1.44e-05\n",
      "b3 relative error: 4.11e-11\n",
      "Running check with reg =  3.14\n",
      "Initial loss:  36.14152720955063\n",
      "U1 relative error: 6.91e-07\n",
      "U2 relative error: 8.19e-07\n",
      "W1 relative error: 7.27e-07\n",
      "W2 relative error: 3.58e-07\n",
      "W3 relative error: 2.79e-08\n",
      "b1 relative error: 6.86e-05\n",
      "b2 relative error: 1.16e-03\n",
      "b3 relative error: 2.35e-09\n"
     ]
    }
   ],
   "source": [
    "N, D, H1, H2, O = 2, 15, 20, 30, 10\n",
    "T = 4\n",
    "X = np.random.randn(N, T, D)\n",
    "Y = np.random.randn(N, O)\n",
    "\n",
    "for reg in [0, 3.14]:\n",
    "  print('Running check with reg = ', reg)\n",
    "  model = AdvancedLSTM([H1, H2], input_dim=D, output_dim=O, \n",
    "                       reg=reg, weight_scale=5e-2, dtype=np.float64)\n",
    "\n",
    "  loss, grads = model.loss(X, Y)\n",
    "  print('Initial loss: ', loss)\n",
    "\n",
    "  for name in sorted(grads):\n",
    "    f = lambda _: model.loss(X, Y)[0]\n",
    "    grad_num = eval_numerical_gradient(f, model.params[name], verbose=False, h=1e-5)\n",
    "    print('%s relative error: %.2e' % (name, rel_error(grad_num, grads[name])))"
   ]
  },
  {
   "cell_type": "markdown",
   "metadata": {},
   "source": [
    "As another sanity check, train on a small dataset of 50 instances. We use three layers of LSTM and tweak the learning rate and initialization scale."
   ]
  },
  {
   "cell_type": "code",
   "execution_count": 48,
   "metadata": {
    "scrolled": false
   },
   "outputs": [
    {
     "name": "stdout",
     "output_type": "stream",
     "text": [
      "(Iteration 1 / 40) loss: 25834.386138\n",
      "(Epoch 0 / 20) train_acc: -24585.993359; val_acc: -22754.584035\n",
      "(Epoch 1 / 20) train_acc: -24553.678901; val_acc: -22722.841330\n",
      "(Epoch 2 / 20) train_acc: -24489.199432; val_acc: -22659.478862\n",
      "(Epoch 3 / 20) train_acc: -24424.312421; val_acc: -22595.890431\n",
      "(Epoch 4 / 20) train_acc: -24359.229251; val_acc: -22532.153400\n",
      "(Epoch 5 / 20) train_acc: -24292.794632; val_acc: -22467.386107\n",
      "(Iteration 11 / 40) loss: 23365.510047\n",
      "(Epoch 6 / 20) train_acc: -24226.185597; val_acc: -22401.898157\n",
      "(Epoch 7 / 20) train_acc: -24154.486765; val_acc: -22331.632446\n",
      "(Epoch 8 / 20) train_acc: -24069.942663; val_acc: -22249.184240\n",
      "(Epoch 9 / 20) train_acc: -23956.483160; val_acc: -22138.375839\n",
      "(Epoch 10 / 20) train_acc: -23767.291472; val_acc: -21953.807456\n",
      "(Iteration 21 / 40) loss: 21446.622670\n",
      "(Epoch 11 / 20) train_acc: -23340.993891; val_acc: -21535.989780\n",
      "(Epoch 12 / 20) train_acc: -22434.520582; val_acc: -20649.555723\n",
      "(Epoch 13 / 20) train_acc: -21410.202070; val_acc: -19648.278429\n",
      "(Epoch 14 / 20) train_acc: -20369.472620; val_acc: -18633.258228\n",
      "(Epoch 15 / 20) train_acc: -19333.098594; val_acc: -17627.971436\n",
      "(Iteration 31 / 40) loss: 20595.584323\n",
      "(Epoch 16 / 20) train_acc: -18320.673507; val_acc: -16642.917560\n",
      "(Epoch 17 / 20) train_acc: -17370.295687; val_acc: -15709.193444\n",
      "(Epoch 18 / 20) train_acc: -16456.554631; val_acc: -14819.026648\n",
      "(Epoch 19 / 20) train_acc: -15593.876870; val_acc: -13980.018860\n",
      "(Epoch 20 / 20) train_acc: -14786.478780; val_acc: -13193.151827\n"
     ]
    },
    {
     "data": {
      "image/png": "[encoded data removed]",
      "text/plain": [
       "<Figure size 720x576 with 1 Axes>"
      ]
     },
     "metadata": {
      "needs_background": "light"
     },
     "output_type": "display_data"
    }
   ],
   "source": [
    "num_train = 50\n",
    "small_data = {\n",
    "  'X_train': data['X_train'][:num_train],\n",
    "  'y_train': data['y_train'][:num_train],\n",
    "  'X_val': data['X_val'],\n",
    "  'y_val': data['y_val'],\n",
    "}\n",
    "\n",
    "weight_scale = 1e-2\n",
    "learning_rate = 1e-2\n",
    "model = AdvancedLSTM([20, 10, 20], input_dim=28,\n",
    "              weight_scale=weight_scale, dtype=np.float64)\n",
    "solver = Solver(model, small_data,\n",
    "                print_every=10, num_epochs=20, batch_size=25,\n",
    "                update_rule='sgd',\n",
    "                optim_config={\n",
    "                  'learning_rate': learning_rate,\n",
    "                }\n",
    "         )\n",
    "solver.train(regress=True)\n",
    "\n",
    "plt.plot(solver.loss_history, 'o')\n",
    "plt.title('Training loss history')\n",
    "plt.xlabel('Iteration')\n",
    "plt.ylabel('Training loss')\n",
    "plt.show()"
   ]
  },
  {
   "cell_type": "markdown",
   "metadata": {},
   "source": [
    "# Update rules\n",
    "So far we have used vanilla stochastic gradient descent (SGD) as our update rule. More sophisticated update rules can make it easier to train deep networks. We implement a few of the most commonly used update rules and compare them to vanilla SGD."
   ]
  },
  {
   "cell_type": "markdown",
   "metadata": {},
   "source": [
    "# SGD+Momentum\n",
    "Stochastic gradient descent with momentum is a widely used update rule that tends to make deep networks converge faster than vanilla stochstic gradient descent.\n",
    "\n",
    "In the file `batchnormlstm/optim.py` we implement the SGD+momentum update rule in the function `sgd_momentum`, then run the following to check the implementation. We should see errors less than 1e-8."
   ]
  },
  {
   "cell_type": "code",
   "execution_count": 49,
   "metadata": {},
   "outputs": [
    {
     "name": "stdout",
     "output_type": "stream",
     "text": [
      "next_w error:  8.882347033505819e-09\n",
      "velocity error:  4.269287743278663e-09\n"
     ]
    }
   ],
   "source": [
    "from batchnormlstm.optim import sgd_momentum\n",
    "\n",
    "N, D = 4, 5\n",
    "w = np.linspace(-0.4, 0.6, num=N*D).reshape(N, D)\n",
    "dw = np.linspace(-0.6, 0.4, num=N*D).reshape(N, D)\n",
    "v = np.linspace(0.6, 0.9, num=N*D).reshape(N, D)\n",
    "\n",
    "config = {'learning_rate': 1e-3, 'velocity': v}\n",
    "next_w, _ = sgd_momentum(w, dw, config=config)\n",
    "\n",
    "expected_next_w = np.asarray([\n",
    "  [ 0.1406,      0.20738947,  0.27417895,  0.34096842,  0.40775789],\n",
    "  [ 0.47454737,  0.54133684,  0.60812632,  0.67491579,  0.74170526],\n",
    "  [ 0.80849474,  0.87528421,  0.94207368,  1.00886316,  1.07565263],\n",
    "  [ 1.14244211,  1.20923158,  1.27602105,  1.34281053,  1.4096    ]])\n",
    "expected_velocity = np.asarray([\n",
    "  [ 0.5406,      0.55475789,  0.56891579, 0.58307368,  0.59723158],\n",
    "  [ 0.61138947,  0.62554737,  0.63970526,  0.65386316,  0.66802105],\n",
    "  [ 0.68217895,  0.69633684,  0.71049474,  0.72465263,  0.73881053],\n",
    "  [ 0.75296842,  0.76712632,  0.78128421,  0.79544211,  0.8096    ]])\n",
    "\n",
    "print('next_w error: ', rel_error(next_w, expected_next_w))\n",
    "print('velocity error: ', rel_error(expected_velocity, config['velocity']))"
   ]
  },
  {
   "cell_type": "markdown",
   "metadata": {},
   "source": [
    "# RMSProp and Adam\n",
    "RMSProp [1] and Adam [2] are update rules that set per-parameter learning rates by using a running average of the second moments of gradients.\n",
    "\n",
    "In the file `batchnormlstm/optim.py`, implement the RMSProp update rule in the `rmsprop` function and implement the Adam update rule in the `adam` function, and check the implementations using the tests below.\n",
    "\n",
    "[1] Tijmen Tieleman and Geoffrey Hinton. \"Lecture 6.5-rmsprop: Divide the gradient by a running average of its recent magnitude.\" COURSERA: Neural Networks for Machine Learning 4 (2012).\n",
    "\n",
    "[2] Diederik Kingma and Jimmy Ba, \"Adam: A Method for Stochastic Optimization\", ICLR 2015."
   ]
  },
  {
   "cell_type": "code",
   "execution_count": 50,
   "metadata": {},
   "outputs": [
    {
     "name": "stdout",
     "output_type": "stream",
     "text": [
      "next_w error:  9.524687511038133e-08\n",
      "cache error:  2.6477955807156126e-09\n"
     ]
    }
   ],
   "source": [
    "# Test RMSProp implementation; we should see errors less than 1e-7\n",
    "from batchnormlstm.optim import rmsprop\n",
    "\n",
    "N, D = 4, 5\n",
    "w = np.linspace(-0.4, 0.6, num=N*D).reshape(N, D)\n",
    "dw = np.linspace(-0.6, 0.4, num=N*D).reshape(N, D)\n",
    "cache = np.linspace(0.6, 0.9, num=N*D).reshape(N, D)\n",
    "\n",
    "config = {'learning_rate': 1e-2, 'cache': cache}\n",
    "next_w, _ = rmsprop(w, dw, config=config)\n",
    "\n",
    "expected_next_w = np.asarray([\n",
    "  [-0.39223849, -0.34037513, -0.28849239, -0.23659121, -0.18467247],\n",
    "  [-0.132737,   -0.08078555, -0.02881884,  0.02316247,  0.07515774],\n",
    "  [ 0.12716641,  0.17918792,  0.23122175,  0.28326742,  0.33532447],\n",
    "  [ 0.38739248,  0.43947102,  0.49155973,  0.54365823,  0.59576619]])\n",
    "expected_cache = np.asarray([\n",
    "  [ 0.5976,      0.6126277,   0.6277108,   0.64284931,  0.65804321],\n",
    "  [ 0.67329252,  0.68859723,  0.70395734,  0.71937285,  0.73484377],\n",
    "  [ 0.75037008,  0.7659518,   0.78158892,  0.79728144,  0.81302936],\n",
    "  [ 0.82883269,  0.84469141,  0.86060554,  0.87657507,  0.8926    ]])\n",
    "\n",
    "print('next_w error: ', rel_error(expected_next_w, next_w))\n",
    "print('cache error: ', rel_error(expected_cache, config['cache']))"
   ]
  },
  {
   "cell_type": "code",
   "execution_count": 51,
   "metadata": {},
   "outputs": [
    {
     "name": "stdout",
     "output_type": "stream",
     "text": [
      "next_w error:  1.1395691798535431e-07\n",
      "v error:  4.208314038113071e-09\n",
      "m error:  4.214963193114416e-09\n"
     ]
    }
   ],
   "source": [
    "# Test Adam implementation; we should see errors around 1e-7 or less\n",
    "from batchnormlstm.optim import adam\n",
    "\n",
    "N, D = 4, 5\n",
    "w = np.linspace(-0.4, 0.6, num=N*D).reshape(N, D)\n",
    "dw = np.linspace(-0.6, 0.4, num=N*D).reshape(N, D)\n",
    "m = np.linspace(0.6, 0.9, num=N*D).reshape(N, D)\n",
    "v = np.linspace(0.7, 0.5, num=N*D).reshape(N, D)\n",
    "\n",
    "config = {'learning_rate': 1e-2, 'm': m, 'v': v, 't': 5}\n",
    "next_w, _ = adam(w, dw, config=config)\n",
    "\n",
    "expected_next_w = np.asarray([\n",
    "  [-0.40094747, -0.34836187, -0.29577703, -0.24319299, -0.19060977],\n",
    "  [-0.1380274,  -0.08544591, -0.03286534,  0.01971428,  0.0722929],\n",
    "  [ 0.1248705,   0.17744702,  0.23002243,  0.28259667,  0.33516969],\n",
    "  [ 0.38774145,  0.44031188,  0.49288093,  0.54544852,  0.59801459]])\n",
    "expected_v = np.asarray([\n",
    "  [ 0.69966,     0.68908382,  0.67851319,  0.66794809,  0.65738853,],\n",
    "  [ 0.64683452,  0.63628604,  0.6257431,   0.61520571,  0.60467385,],\n",
    "  [ 0.59414753,  0.58362676,  0.57311152,  0.56260183,  0.55209767,],\n",
    "  [ 0.54159906,  0.53110598,  0.52061845,  0.51013645,  0.49966,   ]])\n",
    "expected_m = np.asarray([\n",
    "  [ 0.48,        0.49947368,  0.51894737,  0.53842105,  0.55789474],\n",
    "  [ 0.57736842,  0.59684211,  0.61631579,  0.63578947,  0.65526316],\n",
    "  [ 0.67473684,  0.69421053,  0.71368421,  0.73315789,  0.75263158],\n",
    "  [ 0.77210526,  0.79157895,  0.81105263,  0.83052632,  0.85      ]])\n",
    "\n",
    "print('next_w error: ', rel_error(expected_next_w, next_w))\n",
    "print('v error: ', rel_error(expected_v, config['v']))\n",
    "print('m error: ', rel_error(expected_m, config['m']))"
   ]
  },
  {
   "cell_type": "markdown",
   "metadata": {},
   "source": [
    "# Final model\n",
    "By combining the features and modifying the rules, we can come up with a model that best fits the data. An example is shown below."
   ]
  },
  {
   "cell_type": "code",
   "execution_count": 52,
   "metadata": {
    "scrolled": false
   },
   "outputs": [
    {
     "name": "stdout",
     "output_type": "stream",
     "text": [
      "(Iteration 1 / 5340) loss: 22429.565881\n",
      "(Epoch 0 / 30) train_acc: -22142.952517; val_acc: -22784.897269\n",
      "(Iteration 101 / 5340) loss: 20349.013528\n",
      "(Epoch 1 / 30) train_acc: -18865.138875; val_acc: -19299.204119\n",
      "(Iteration 201 / 5340) loss: 18602.975270\n",
      "(Iteration 301 / 5340) loss: 17323.709701\n",
      "(Epoch 2 / 30) train_acc: -16796.062704; val_acc: -17131.768075\n",
      "(Iteration 401 / 5340) loss: 16288.072421\n",
      "(Iteration 501 / 5340) loss: 15502.713236\n",
      "(Epoch 3 / 30) train_acc: -15196.966181; val_acc: -15526.532841\n",
      "(Iteration 601 / 5340) loss: 14649.562715\n",
      "(Iteration 701 / 5340) loss: 14009.695086\n",
      "(Epoch 4 / 30) train_acc: -14044.081025; val_acc: -14265.049174\n",
      "(Iteration 801 / 5340) loss: 13185.206727\n",
      "(Epoch 5 / 30) train_acc: -13031.742671; val_acc: -13231.504870\n",
      "(Iteration 901 / 5340) loss: 13008.184389\n",
      "(Iteration 1001 / 5340) loss: 12358.698903\n",
      "(Epoch 6 / 30) train_acc: -12082.949525; val_acc: -12363.994974\n",
      "(Iteration 1101 / 5340) loss: 11953.610956\n",
      "(Iteration 1201 / 5340) loss: 11570.680937\n",
      "(Epoch 7 / 30) train_acc: -11386.860170; val_acc: -11617.967127\n",
      "(Iteration 1301 / 5340) loss: 11076.299291\n",
      "(Iteration 1401 / 5340) loss: 10706.953638\n",
      "(Epoch 8 / 30) train_acc: -10756.732469; val_acc: -10982.382432\n",
      "(Iteration 1501 / 5340) loss: 10634.784156\n",
      "(Iteration 1601 / 5340) loss: 10100.037639\n",
      "(Epoch 9 / 30) train_acc: -10167.074312; val_acc: -10428.199456\n",
      "(Iteration 1701 / 5340) loss: 9745.082310\n",
      "(Epoch 10 / 30) train_acc: -9761.301357; val_acc: -9949.255366\n",
      "(Iteration 1801 / 5340) loss: 9740.305786\n",
      "(Iteration 1901 / 5340) loss: 9455.521302\n",
      "(Epoch 11 / 30) train_acc: -9220.368611; val_acc: -9526.771915\n",
      "(Iteration 2001 / 5340) loss: 9318.000634\n",
      "(Iteration 2101 / 5340) loss: 8766.926771\n",
      "(Epoch 12 / 30) train_acc: -8826.712583; val_acc: -9157.506234\n",
      "(Iteration 2201 / 5340) loss: 8883.436453\n",
      "(Iteration 2301 / 5340) loss: 8415.150049\n",
      "(Epoch 13 / 30) train_acc: -8601.044907; val_acc: -8831.214089\n",
      "(Iteration 2401 / 5340) loss: 8337.676423\n",
      "(Epoch 14 / 30) train_acc: -8265.879308; val_acc: -8543.576560\n",
      "(Iteration 2501 / 5340) loss: 8176.022965\n",
      "(Iteration 2601 / 5340) loss: 8134.875731\n",
      "(Epoch 15 / 30) train_acc: -7979.966729; val_acc: -8289.256179\n",
      "(Iteration 2701 / 5340) loss: 8010.672002\n",
      "(Iteration 2801 / 5340) loss: 7786.470749\n",
      "(Epoch 16 / 30) train_acc: -7698.672004; val_acc: -8063.710700\n",
      "(Iteration 2901 / 5340) loss: 7724.126279\n",
      "(Iteration 3001 / 5340) loss: 7620.020365\n",
      "(Epoch 17 / 30) train_acc: -7719.087292; val_acc: -7862.021490\n",
      "(Iteration 3101 / 5340) loss: 7325.542304\n",
      "(Iteration 3201 / 5340) loss: 7464.801944\n",
      "(Epoch 18 / 30) train_acc: -7538.533580; val_acc: -7682.794647\n",
      "(Iteration 3301 / 5340) loss: 7422.965915\n",
      "(Epoch 19 / 30) train_acc: -7322.645703; val_acc: -7522.302291\n",
      "(Iteration 3401 / 5340) loss: 7050.178851\n",
      "(Iteration 3501 / 5340) loss: 6933.501588\n",
      "(Epoch 20 / 30) train_acc: -7133.884757; val_acc: -7380.145795\n",
      "(Iteration 3601 / 5340) loss: 7228.305912\n",
      "(Iteration 3701 / 5340) loss: 6913.018620\n",
      "(Epoch 21 / 30) train_acc: -6962.117160; val_acc: -7251.559253\n",
      "(Iteration 3801 / 5340) loss: 7036.348716\n",
      "(Iteration 3901 / 5340) loss: 6832.206765\n",
      "(Epoch 22 / 30) train_acc: -6784.496720; val_acc: -7135.825761\n",
      "(Iteration 4001 / 5340) loss: 7018.763070\n",
      "(Epoch 23 / 30) train_acc: -6748.284937; val_acc: -7032.677722\n",
      "(Iteration 4101 / 5340) loss: 6842.172335\n",
      "(Iteration 4201 / 5340) loss: 6681.822179\n",
      "(Epoch 24 / 30) train_acc: -6647.404915; val_acc: -6940.317673\n",
      "(Iteration 4301 / 5340) loss: 6580.366273\n",
      "(Iteration 4401 / 5340) loss: 6412.021725\n",
      "(Epoch 25 / 30) train_acc: -6612.512929; val_acc: -6857.909244\n",
      "(Iteration 4501 / 5340) loss: 6587.338017\n",
      "(Iteration 4601 / 5340) loss: 6532.855847\n",
      "(Epoch 26 / 30) train_acc: -6474.088960; val_acc: -6783.350387\n",
      "(Iteration 4701 / 5340) loss: 6441.732856\n",
      "(Iteration 4801 / 5340) loss: 6231.865239\n",
      "(Epoch 27 / 30) train_acc: -6450.675438; val_acc: -6716.356471\n",
      "(Iteration 4901 / 5340) loss: 6263.615659\n",
      "(Epoch 28 / 30) train_acc: -6514.149270; val_acc: -6655.453157\n",
      "(Iteration 5001 / 5340) loss: 6569.669732\n",
      "(Iteration 5101 / 5340) loss: 6196.811852\n",
      "(Epoch 29 / 30) train_acc: -6297.476843; val_acc: -6600.935016\n",
      "(Iteration 5201 / 5340) loss: 6293.660362\n",
      "(Iteration 5301 / 5340) loss: 6276.366139\n",
      "(Epoch 30 / 30) train_acc: -6229.338944; val_acc: -6552.802483\n"
     ]
    }
   ],
   "source": [
    "adv_model = None\n",
    "################################################################################\n",
    "# Train a AdvancedLSTM with modified features and rules. Store the model in    #\n",
    "# adv_model variable.                                                          #\n",
    "################################################################################\n",
    "hidden_dims = [20, 15, 20]\n",
    "adv_model = AdvancedLSTM(hidden_dims, input_dim=28, \n",
    "                         weight_scale=1e-2, dropout=0.95, use_batchnorm=True, reg=3e-5)\n",
    "\n",
    "solver = Solver(adv_model, data,\n",
    "                num_epochs=30, batch_size=100,\n",
    "                update_rule='adam',\n",
    "                optim_config={\n",
    "                  'learning_rate': 1e-2,\n",
    "                },\n",
    "                verbose=True, print_every=100, \n",
    "                lr_decay = 0.9)\n",
    "\n",
    "solver.train(regress=True)\n",
    "################################################################################\n",
    "#                                                                              #\n",
    "################################################################################"
   ]
  },
  {
   "cell_type": "markdown",
   "metadata": {},
   "source": [
    "# Test the final model\n",
    "Run the model on the validation and test sets."
   ]
  },
  {
   "cell_type": "code",
   "execution_count": 54,
   "metadata": {
    "scrolled": true
   },
   "outputs": [
    {
     "name": "stdout",
     "output_type": "stream",
     "text": [
      "Test set accuracy: \n"
     ]
    },
    {
     "data": {
      "text/plain": [
       "-6441.067650268412"
      ]
     },
     "execution_count": 54,
     "metadata": {},
     "output_type": "execute_result"
    }
   ],
   "source": [
    "print('Test set accuracy: ')\n",
    "solver.check_accuracy(data['X_test'], data['y_test'], regress=True)"
   ]
  }
 ],
 "metadata": {
  "kernelspec": {
   "display_name": "Python 3",
   "language": "python",
   "name": "python3"
  },
  "language_info": {
   "codemirror_mode": {
    "name": "ipython",
    "version": 3
   },
   "file_extension": ".py",
   "mimetype": "text/x-python",
   "name": "python",
   "nbconvert_exporter": "python",
   "pygments_lexer": "ipython3",
   "version": "3.6.5"
  }
 },
 "nbformat": 4,
 "nbformat_minor": 1
}
